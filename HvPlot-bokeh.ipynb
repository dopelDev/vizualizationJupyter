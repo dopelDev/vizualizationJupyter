{
 "cells": [
  {
   "cell_type": "code",
   "execution_count": 2,
   "id": "cd257381",
   "metadata": {},
   "outputs": [
    {
     "ename": "ModuleNotFoundError",
     "evalue": "No module named 'numpy'",
     "output_type": "error",
     "traceback": [
      "\u001b[0;31m---------------------------------------------------------------------------\u001b[0m",
      "\u001b[0;31mModuleNotFoundError\u001b[0m                       Traceback (most recent call last)",
      "Cell \u001b[0;32mIn[2], line 2\u001b[0m\n\u001b[1;32m      1\u001b[0m \u001b[38;5;66;03m# hvplot bokeh\u001b[39;00m\n\u001b[0;32m----> 2\u001b[0m \u001b[38;5;28;01mimport\u001b[39;00m \u001b[38;5;21;01mnumpy\u001b[39;00m \u001b[38;5;28;01mas\u001b[39;00m \u001b[38;5;21;01mnp\u001b[39;00m\n\u001b[1;32m      3\u001b[0m \u001b[38;5;28;01mimport\u001b[39;00m \u001b[38;5;21;01mhvplot\u001b[39;00m\u001b[38;5;21;01m.\u001b[39;00m\u001b[38;5;21;01mpandas\u001b[39;00m  \u001b[38;5;66;03m# noqa\u001b[39;00m\n\u001b[1;32m      4\u001b[0m \u001b[38;5;28;01mimport\u001b[39;00m \u001b[38;5;21;01mhvplot\u001b[39;00m\u001b[38;5;21;01m.\u001b[39;00m\u001b[38;5;21;01mdask\u001b[39;00m  \u001b[38;5;66;03m# noqa\u001b[39;00m\n",
      "\u001b[0;31mModuleNotFoundError\u001b[0m: No module named 'numpy'"
     ]
    }
   ],
   "source": [
    "# hvplot bokeh\n",
    "import numpy as np\n",
    "import hvplot.pandas  # noqa\n",
    "import hvplot.dask  # noqa"
   ]
  },
  {
   "cell_type": "code",
   "execution_count": 3,
   "id": "92248dc3",
   "metadata": {},
   "outputs": [
    {
     "ename": "ModuleNotFoundError",
     "evalue": "No module named 'hvplot'",
     "output_type": "error",
     "traceback": [
      "\u001b[0;31m---------------------------------------------------------------------------\u001b[0m",
      "\u001b[0;31mModuleNotFoundError\u001b[0m                       Traceback (most recent call last)",
      "Cell \u001b[0;32mIn[3], line 1\u001b[0m\n\u001b[0;32m----> 1\u001b[0m \u001b[38;5;28;01mfrom\u001b[39;00m \u001b[38;5;21;01mhvplot\u001b[39;00m\u001b[38;5;21;01m.\u001b[39;00m\u001b[38;5;21;01msample_data\u001b[39;00m \u001b[38;5;28;01mimport\u001b[39;00m us_crime, airline_flights\n\u001b[1;32m      3\u001b[0m crime \u001b[38;5;241m=\u001b[39m us_crime\u001b[38;5;241m.\u001b[39mread()\n\u001b[1;32m      4\u001b[0m \u001b[38;5;28mprint\u001b[39m(\u001b[38;5;28mtype\u001b[39m(crime))\n",
      "\u001b[0;31mModuleNotFoundError\u001b[0m: No module named 'hvplot'"
     ]
    }
   ],
   "source": [
    "from hvplot.sample_data import us_crime, airline_flights\n",
    "\n",
    "crime = us_crime.read()\n",
    "print(type(crime))\n",
    "crime.head()"
   ]
  },
  {
   "cell_type": "code",
   "execution_count": 4,
   "id": "d56688aa",
   "metadata": {},
   "outputs": [
    {
     "ename": "NameError",
     "evalue": "name 'airline_flights' is not defined",
     "output_type": "error",
     "traceback": [
      "\u001b[0;31m---------------------------------------------------------------------------\u001b[0m",
      "\u001b[0;31mNameError\u001b[0m                                 Traceback (most recent call last)",
      "Cell \u001b[0;32mIn[4], line 1\u001b[0m\n\u001b[0;32m----> 1\u001b[0m flights \u001b[38;5;241m=\u001b[39m \u001b[43mairline_flights\u001b[49m\u001b[38;5;241m.\u001b[39mto_dask()\u001b[38;5;241m.\u001b[39mpersist()\n\u001b[1;32m      2\u001b[0m \u001b[38;5;28mprint\u001b[39m(\u001b[38;5;28mtype\u001b[39m(flights))\n\u001b[1;32m      3\u001b[0m flights\u001b[38;5;241m.\u001b[39mhead()\n",
      "\u001b[0;31mNameError\u001b[0m: name 'airline_flights' is not defined"
     ]
    }
   ],
   "source": [
    "flights = airline_flights.to_dask().persist()\n",
    "print(type(flights))\n",
    "flights.head()"
   ]
  },
  {
   "cell_type": "code",
   "execution_count": 5,
   "id": "55320771",
   "metadata": {},
   "outputs": [
    {
     "ename": "NameError",
     "evalue": "name 'crime' is not defined",
     "output_type": "error",
     "traceback": [
      "\u001b[0;31m---------------------------------------------------------------------------\u001b[0m",
      "\u001b[0;31mNameError\u001b[0m                                 Traceback (most recent call last)",
      "Cell \u001b[0;32mIn[5], line 2\u001b[0m\n\u001b[1;32m      1\u001b[0m \u001b[38;5;66;03m# line plot\u001b[39;00m\n\u001b[0;32m----> 2\u001b[0m \u001b[43mcrime\u001b[49m\u001b[38;5;241m.\u001b[39mhvplot\u001b[38;5;241m.\u001b[39mline(x\u001b[38;5;241m=\u001b[39m\u001b[38;5;124m'\u001b[39m\u001b[38;5;124mYear\u001b[39m\u001b[38;5;124m'\u001b[39m, y\u001b[38;5;241m=\u001b[39m\u001b[38;5;124m'\u001b[39m\u001b[38;5;124mViolent Crime rate\u001b[39m\u001b[38;5;124m'\u001b[39m)\n",
      "\u001b[0;31mNameError\u001b[0m: name 'crime' is not defined"
     ]
    }
   ],
   "source": [
    "# line plot\n",
    "crime.hvplot.line(x='Year', y='Violent Crime rate')"
   ]
  },
  {
   "cell_type": "code",
   "execution_count": 6,
   "id": "45515580",
   "metadata": {},
   "outputs": [
    {
     "ename": "NameError",
     "evalue": "name 'crime' is not defined",
     "output_type": "error",
     "traceback": [
      "\u001b[0;31m---------------------------------------------------------------------------\u001b[0m",
      "\u001b[0;31mNameError\u001b[0m                                 Traceback (most recent call last)",
      "Cell \u001b[0;32mIn[6], line 2\u001b[0m\n\u001b[1;32m      1\u001b[0m \u001b[38;5;66;03m# scatter \u001b[39;00m\n\u001b[0;32m----> 2\u001b[0m \u001b[43mcrime\u001b[49m\u001b[38;5;241m.\u001b[39mhvplot(x\u001b[38;5;241m=\u001b[39m\u001b[38;5;124m'\u001b[39m\u001b[38;5;124mYear\u001b[39m\u001b[38;5;124m'\u001b[39m, y\u001b[38;5;241m=\u001b[39m\u001b[38;5;124m'\u001b[39m\u001b[38;5;124mViolent Crime rate\u001b[39m\u001b[38;5;124m'\u001b[39m, kind\u001b[38;5;241m=\u001b[39m\u001b[38;5;124m'\u001b[39m\u001b[38;5;124mscatter\u001b[39m\u001b[38;5;124m'\u001b[39m)\n",
      "\u001b[0;31mNameError\u001b[0m: name 'crime' is not defined"
     ]
    }
   ],
   "source": [
    "# scatter \n",
    "crime.hvplot(x='Year', y='Violent Crime rate', kind='scatter')"
   ]
  },
  {
   "cell_type": "code",
   "execution_count": null,
   "id": "81c97204",
   "metadata": {},
   "outputs": [],
   "source": [
    "flight_subset = flights[flights.carrier.isin(['OH', 'F9'])]\n",
    "flight_subset.hvplot(x='distance', y='depdelay', by='carrier', kind='scatter', alpha=0.2, persist=True)"
   ]
  },
  {
   "cell_type": "code",
   "execution_count": null,
   "id": "3860be5d",
   "metadata": {},
   "outputs": [],
   "source": [
    "crime.hvplot(x='Year', y=['Violent Crime rate', 'Robbery rate', 'Burglary rate'],\n",
    "             value_label='Rate (per 100k people)')"
   ]
  },
  {
   "cell_type": "code",
   "execution_count": null,
   "id": "23573342",
   "metadata": {},
   "outputs": [],
   "source": [
    "# Area plot\n",
    "crime.hvplot.area(x='Year', y=['Robbery', 'Aggravated assault'])"
   ]
  },
  {
   "cell_type": "code",
   "execution_count": null,
   "id": "eb45dc3c",
   "metadata": {},
   "outputs": [],
   "source": [
    "# no stack\n",
    "crime.hvplot.area(x='Year', y=['Aggravated assault', 'Robbery'], stacked=False, alpha=0.4)"
   ]
  },
  {
   "cell_type": "code",
   "execution_count": null,
   "id": "11831c15",
   "metadata": {},
   "outputs": [],
   "source": [
    "delay_min_max = flights.groupby(['day', 'carrier'])['carrier_delay'].mean().groupby('day').agg([np.min, np.max])\n",
    "delay_mean = flights.groupby('day')['carrier_delay'].mean()\n",
    "\n",
    "delay_min_max.hvplot.area(x='day', y='amin', y2='amax', alpha=0.2) * delay_mean.hvplot()"
   ]
  },
  {
   "cell_type": "code",
   "execution_count": null,
   "id": "17c6fe7c",
   "metadata": {},
   "outputs": [],
   "source": [
    "# Bar\n",
    "crime.hvplot.bar(x='Year', y='Violent Crime rate', rot=90)"
   ]
  },
  {
   "cell_type": "code",
   "execution_count": null,
   "id": "3b2eab3d",
   "metadata": {},
   "outputs": [],
   "source": [
    "crime.hvplot.bar(x='Year', y=['Violent crime total', 'Property crime total'],\n",
    "                 stacked=True, rot=90, width=800, legend='top_left')"
   ]
  },
  {
   "cell_type": "code",
   "execution_count": null,
   "id": "9d441e5c",
   "metadata": {},
   "outputs": [],
   "source": [
    "# scatter plot\n",
    "crime.hvplot.scatter(x='Violent Crime rate', y='Burglary rate', c='Year')"
   ]
  },
  {
   "cell_type": "code",
   "execution_count": null,
   "id": "2df0256f",
   "metadata": {},
   "outputs": [],
   "source": [
    "# step plot\n",
    "crime.hvplot.step(x='Year', y=['Robbery', 'Aggravated assault'])"
   ]
  },
  {
   "cell_type": "code",
   "execution_count": null,
   "id": "46d2152d",
   "metadata": {},
   "outputs": [],
   "source": [
    "# densidad density\n",
    "# HexBins\n",
    "flights.hvplot.hexbin(x='airtime', y='arrdelay', width=600, height=500, logz=True)"
   ]
  },
  {
   "cell_type": "code",
   "execution_count": null,
   "id": "d973f4df",
   "metadata": {},
   "outputs": [],
   "source": [
    "# Bivariate\n",
    "crime.hvplot.bivariate(x='Violent Crime rate', y='Burglary rate', width=600, height=500)"
   ]
  },
  {
   "cell_type": "code",
   "execution_count": null,
   "id": "44423300",
   "metadata": {},
   "outputs": [],
   "source": [
    "# HeatMap\n",
    "flights.compute().hvplot.heatmap(x='day', y='carrier', C='depdelay', reduce_function=np.mean, colorbar=True)"
   ]
  },
  {
   "cell_type": "code",
   "execution_count": null,
   "id": "a97dcc23",
   "metadata": {},
   "outputs": [],
   "source": [
    "# Table\n",
    "crime.hvplot.table(columns=['Year', 'Population', 'Violent Crime rate'], width=400)"
   ]
  },
  {
   "cell_type": "code",
   "execution_count": null,
   "id": "683d2b92",
   "metadata": {},
   "outputs": [],
   "source": [
    "# Distributions Plots\n",
    "# Histogram\n",
    "crime.hvplot.hist(y='Violent Crime rate')"
   ]
  },
  {
   "cell_type": "code",
   "execution_count": null,
   "id": "67e4c3d0",
   "metadata": {},
   "outputs": [],
   "source": [
    "columns = ['Violent Crime rate', 'Property crime rate', 'Burglary rate']\n",
    "crime.hvplot.hist(y=columns, bins=50, alpha=0.5, legend='top', height=400)"
   ]
  },
  {
   "cell_type": "code",
   "execution_count": null,
   "id": "db8d1f77",
   "metadata": {},
   "outputs": [],
   "source": [
    "flight_subset = flights[flights.carrier.isin(['AA', 'US', 'OH'])]\n",
    "flight_subset.hvplot.hist('depdelay', by='carrier', bins=20, bin_range=(-20, 100), width=300, subplots=True)"
   ]
  },
  {
   "cell_type": "code",
   "execution_count": null,
   "id": "d673dd5f",
   "metadata": {},
   "outputs": [],
   "source": [
    "# density plots\n",
    "#KDE plot\n",
    "crime.hvplot.kde(y='Violent Crime rate')"
   ]
  },
  {
   "cell_type": "code",
   "execution_count": null,
   "id": "2f4d451c",
   "metadata": {},
   "outputs": [],
   "source": [
    "columns=['Violent Crime rate', 'Property crime rate', 'Burglary rate']\n",
    "crime.hvplot.kde(y=columns, alpha=0.5, value_label='Rate', legend='top_right')"
   ]
  },
  {
   "cell_type": "code",
   "execution_count": null,
   "id": "eece5399",
   "metadata": {},
   "outputs": [],
   "source": [
    "flight_subset = flights[flights.carrier.isin(['AA', 'US', 'OH'])]\n",
    "flight_subset.hvplot.kde('depdelay', by='carrier', xlim=(-20, 70), width=300, subplots=True)"
   ]
  },
  {
   "cell_type": "code",
   "execution_count": null,
   "id": "d2474472",
   "metadata": {},
   "outputs": [],
   "source": [
    "# Box-Whiskers Plots\n",
    "crime.hvplot.box(y='Violent Crime rate')"
   ]
  },
  {
   "cell_type": "code",
   "execution_count": null,
   "id": "a9042deb",
   "metadata": {},
   "outputs": [],
   "source": [
    "columns=['Burglary rate', 'Larceny-theft rate', 'Motor vehicle theft rate',\n",
    "         'Property crime rate', 'Violent Crime rate']\n",
    "crime.hvplot.box(y=columns, group_label='Crime', legend=False, value_label='Rate (per 100k)', invert=True)"
   ]
  },
  {
   "cell_type": "code",
   "execution_count": null,
   "id": "6909c9c6",
   "metadata": {},
   "outputs": [],
   "source": [
    "flight_subset = flights[flights.carrier.isin(['AA', 'US', 'OH'])]\n",
    "flight_subset.hvplot.box('depdelay', by='carrier', ylim=(-10, 70))"
   ]
  },
  {
   "cell_type": "code",
   "execution_count": null,
   "id": "c77ba05c",
   "metadata": {},
   "outputs": [],
   "source": [
    "# Composing Plots\n",
    "crime.hvplot(x='Year', y='Violent Crime rate') * crime.hvplot.scatter(x='Year', y='Violent Crime rate', c='k')"
   ]
  },
  {
   "cell_type": "code",
   "execution_count": null,
   "id": "7ad4948a",
   "metadata": {},
   "outputs": [],
   "source": [
    "(crime.hvplot.bar(x='Year', y='Violent Crime rate', rot=90, width=550) +\n",
    " crime.hvplot.table(['Year', 'Population', 'Violent Crime rate'], width=420))"
   ]
  },
  {
   "cell_type": "code",
   "execution_count": null,
   "id": "a043f228",
   "metadata": {},
   "outputs": [],
   "source": [
    "# Large Data\n",
    "flights.hvplot.scatter(x='distance', y='airtime', datashade=True)"
   ]
  },
  {
   "cell_type": "code",
   "execution_count": null,
   "id": "c4a9f445",
   "metadata": {},
   "outputs": [],
   "source": [
    "# Groupby\n",
    "flights.hvplot.violin(y='depdelay', by='carrier', groupby='dayofweek', ylim=(-20, 60), height=500)"
   ]
  },
  {
   "cell_type": "code",
   "execution_count": null,
   "id": "2e49225c",
   "metadata": {},
   "outputs": [],
   "source": []
  },
  {
   "cell_type": "code",
   "execution_count": null,
   "id": "809ddb2e",
   "metadata": {},
   "outputs": [],
   "source": []
  }
 ],
 "metadata": {
  "kernelspec": {
   "display_name": "Python 3 (ipykernel)",
   "language": "python",
   "name": "python3"
  },
  "language_info": {
   "codemirror_mode": {
    "name": "ipython",
    "version": 3
   },
   "file_extension": ".py",
   "mimetype": "text/x-python",
   "name": "python",
   "nbconvert_exporter": "python",
   "pygments_lexer": "ipython3",
   "version": "3.11.2"
  }
 },
 "nbformat": 4,
 "nbformat_minor": 5
}
