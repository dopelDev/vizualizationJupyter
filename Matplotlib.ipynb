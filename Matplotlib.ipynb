{
 "cells": [
  {
   "cell_type": "code",
   "execution_count": 1,
   "id": "062db89d",
   "metadata": {},
   "outputs": [],
   "source": [
    "# plotting with matplotlib\n",
    "# statics plot"
   ]
  },
  {
   "cell_type": "code",
   "execution_count": 2,
   "id": "3edfedde",
   "metadata": {
    "scrolled": false
   },
   "outputs": [
    {
     "data": {
      "text/html": [
       "<style>.bk-root, .bk-root .bk:before, .bk-root .bk:after {\n",
       "  font-family: var(--jp-ui-font-size1);\n",
       "  font-size: var(--jp-ui-font-size1);\n",
       "  color: var(--jp-ui-font-color1);\n",
       "}\n",
       "</style>"
      ]
     },
     "metadata": {},
     "output_type": "display_data"
    }
   ],
   "source": [
    "import numpy as np\n",
    "import hvplot.pandas  # noqa\n",
    "import hvplot.dask  # noqa\n",
    "\n",
    "hvplot.extension('matplotlib')"
   ]
  },
  {
   "cell_type": "code",
   "execution_count": 3,
   "id": "0aa20c89",
   "metadata": {},
   "outputs": [
    {
     "ename": "ImportError",
     "evalue": "Loading hvPlot sample data requires:\n                * intake\n                * intake-parquet\n                * intake-xarray\n                * s3fs\n             Install these using conda or pip before loading data.",
     "output_type": "error",
     "traceback": [
      "\u001b[0;31m---------------------------------------------------------------------------\u001b[0m",
      "\u001b[0;31mModuleNotFoundError\u001b[0m                       Traceback (most recent call last)",
      "File \u001b[0;32m~/codeInTest/python_playground/hvplot/env/lib/python3.11/site-packages/hvplot/sample_data.py:9\u001b[0m\n\u001b[1;32m      8\u001b[0m \u001b[38;5;28;01mfrom\u001b[39;00m \u001b[38;5;21;01mintake\u001b[39;00m \u001b[38;5;28;01mimport\u001b[39;00m open_catalog\n\u001b[0;32m----> 9\u001b[0m \u001b[38;5;28;01mimport\u001b[39;00m \u001b[38;5;21;01mintake_parquet\u001b[39;00m  \u001b[38;5;66;03m# noqa\u001b[39;00m\n\u001b[1;32m     10\u001b[0m \u001b[38;5;28;01mimport\u001b[39;00m \u001b[38;5;21;01mintake_xarray\u001b[39;00m   \u001b[38;5;66;03m# noqa\u001b[39;00m\n",
      "\u001b[0;31mModuleNotFoundError\u001b[0m: No module named 'intake_parquet'",
      "\nDuring handling of the above exception, another exception occurred:\n",
      "\u001b[0;31mImportError\u001b[0m                               Traceback (most recent call last)",
      "Cell \u001b[0;32mIn[3], line 2\u001b[0m\n\u001b[1;32m      1\u001b[0m \u001b[38;5;66;03m# usando pandas\u001b[39;00m\n\u001b[0;32m----> 2\u001b[0m \u001b[38;5;28;01mfrom\u001b[39;00m \u001b[38;5;21;01mhvplot\u001b[39;00m\u001b[38;5;21;01m.\u001b[39;00m\u001b[38;5;21;01msample_data\u001b[39;00m \u001b[38;5;28;01mimport\u001b[39;00m us_crime, airline_flights\n\u001b[1;32m      4\u001b[0m crime \u001b[38;5;241m=\u001b[39m us_crime\u001b[38;5;241m.\u001b[39mread()\n\u001b[1;32m      5\u001b[0m \u001b[38;5;28mprint\u001b[39m(\u001b[38;5;28mtype\u001b[39m(crime))\n",
      "File \u001b[0;32m~/codeInTest/python_playground/hvplot/env/lib/python3.11/site-packages/hvplot/sample_data.py:13\u001b[0m\n\u001b[1;32m     11\u001b[0m     \u001b[38;5;28;01mimport\u001b[39;00m \u001b[38;5;21;01ms3fs\u001b[39;00m  \u001b[38;5;66;03m# noqa\u001b[39;00m\n\u001b[1;32m     12\u001b[0m \u001b[38;5;28;01mexcept\u001b[39;00m:\n\u001b[0;32m---> 13\u001b[0m     \u001b[38;5;28;01mraise\u001b[39;00m \u001b[38;5;167;01mImportError\u001b[39;00m(\n\u001b[1;32m     14\u001b[0m \u001b[38;5;250m        \u001b[39m\u001b[38;5;124;03m\"\"\"Loading hvPlot sample data requires:\u001b[39;00m\n\u001b[1;32m     15\u001b[0m \u001b[38;5;124;03m                * intake\u001b[39;00m\n\u001b[1;32m     16\u001b[0m \u001b[38;5;124;03m                * intake-parquet\u001b[39;00m\n\u001b[1;32m     17\u001b[0m \u001b[38;5;124;03m                * intake-xarray\u001b[39;00m\n\u001b[1;32m     18\u001b[0m \u001b[38;5;124;03m                * s3fs\u001b[39;00m\n\u001b[1;32m     19\u001b[0m \u001b[38;5;124;03m             Install these using conda or pip before loading data.\"\"\"\u001b[39;00m\n\u001b[1;32m     20\u001b[0m     )\n\u001b[1;32m     22\u001b[0m _file_path \u001b[38;5;241m=\u001b[39m os\u001b[38;5;241m.\u001b[39mpath\u001b[38;5;241m.\u001b[39mdirname(\u001b[38;5;18m__file__\u001b[39m)\n\u001b[1;32m     23\u001b[0m \u001b[38;5;28;01mif\u001b[39;00m os\u001b[38;5;241m.\u001b[39mpath\u001b[38;5;241m.\u001b[39misdir(os\u001b[38;5;241m.\u001b[39mpath\u001b[38;5;241m.\u001b[39mjoin(_file_path, \u001b[38;5;124m'\u001b[39m\u001b[38;5;124mexamples\u001b[39m\u001b[38;5;124m'\u001b[39m)):\n",
      "\u001b[0;31mImportError\u001b[0m: Loading hvPlot sample data requires:\n                * intake\n                * intake-parquet\n                * intake-xarray\n                * s3fs\n             Install these using conda or pip before loading data."
     ]
    }
   ],
   "source": [
    "# usando pandas\n",
    "from hvplot.sample_data import us_crime, airline_flights\n",
    "\n",
    "crime = us_crime.read()\n",
    "print(type(crime))\n",
    "crime.head()"
   ]
  },
  {
   "cell_type": "code",
   "execution_count": null,
   "id": "884c0a8a",
   "metadata": {},
   "outputs": [],
   "source": [
    "#  usando dask\n",
    "flights = airline_flights.to_dask().persist()\n",
    "print(type(flights))\n",
    "flights.head()"
   ]
  },
  {
   "cell_type": "code",
   "execution_count": null,
   "id": "41da7bca",
   "metadata": {},
   "outputs": [],
   "source": [
    "crime.hvplot.line(x = 'Year', y = 'Violent Crime rate')"
   ]
  },
  {
   "cell_type": "code",
   "execution_count": null,
   "id": "a1c09af2",
   "metadata": {},
   "outputs": [],
   "source": [
    "crime.hvplot(x = 'Year', y = 'Violent Crime rate', kind = 'scatter')"
   ]
  },
  {
   "cell_type": "code",
   "execution_count": null,
   "id": "018cbc7d",
   "metadata": {},
   "outputs": [],
   "source": [
    "flights_subset = flights[flights.carrier.isin(['OH', 'F9'])]"
   ]
  },
  {
   "cell_type": "code",
   "execution_count": null,
   "id": "eee59ad3",
   "metadata": {},
   "outputs": [],
   "source": [
    "flights_subset.hvplot(x = 'distance', y = 'depdelay', by = 'carrier', kind = 'scatter', alpha = 0.2, persist = True)"
   ]
  },
  {
   "cell_type": "code",
   "execution_count": null,
   "id": "cd508aea",
   "metadata": {},
   "outputs": [],
   "source": [
    "crime.hvplot(x='Year', y=['Violent Crime rate', 'Robbery rate', 'Burglary rate'],\n",
    "             value_label='Rate (per 100k people)')"
   ]
  },
  {
   "cell_type": "code",
   "execution_count": null,
   "id": "145a275b",
   "metadata": {},
   "outputs": [],
   "source": [
    "# Area\n",
    "crime.hvplot.area(x='Year', y=['Robbery', 'Aggravated assault'])"
   ]
  },
  {
   "cell_type": "code",
   "execution_count": null,
   "id": "ef1e8082",
   "metadata": {},
   "outputs": [],
   "source": [
    "# Area stacked and alpha\n",
    "crime.hvplot.area(x='Year', y=['Aggravated assault', 'Robbery'], stacked=False, alpha=0.4)"
   ]
  },
  {
   "cell_type": "code",
   "execution_count": null,
   "id": "bef3b689",
   "metadata": {},
   "outputs": [],
   "source": [
    "delay_min_max = flights.groupby(['day', 'carrier'])['carrier_delay'].mean().groupby('day').agg([np.min, np.max])\n",
    "delay_mean = flights.groupby('day')['carrier_delay'].mean()\n",
    "\n",
    "delay_min_max.hvplot.area(x='day', y='amin', y2='amax', alpha=0.2) * delay_mean.hvplot()"
   ]
  },
  {
   "cell_type": "code",
   "execution_count": null,
   "id": "7147f745",
   "metadata": {},
   "outputs": [],
   "source": [
    "crime.hvplot.bar(x='Year', y='Violent Crime rate', rot=90, width=900)"
   ]
  },
  {
   "cell_type": "code",
   "execution_count": null,
   "id": "873cedf7",
   "metadata": {},
   "outputs": [],
   "source": [
    "crime.hvplot.bar(x='Year', y=['Violent crime total', 'Property crime total'],\n",
    "                 stacked=True, rot=90, width=900, legend='top_left')"
   ]
  },
  {
   "cell_type": "code",
   "execution_count": null,
   "id": "e3a341d3",
   "metadata": {},
   "outputs": [],
   "source": [
    "crime.hvplot.scatter(x='Violent Crime rate', y='Burglary rate', c='Year')"
   ]
  },
  {
   "cell_type": "code",
   "execution_count": null,
   "id": "0f013ecf",
   "metadata": {},
   "outputs": [],
   "source": [
    "# steps\n",
    "crime.hvplot.step(x='Year', y=['Robbery', 'Aggravated assault'])"
   ]
  },
  {
   "cell_type": "code",
   "execution_count": null,
   "id": "a74dc0b2",
   "metadata": {},
   "outputs": [],
   "source": [
    "crime.hvplot.bivariate(x='Violent Crime rate', y='Burglary rate', width=600, height=500)"
   ]
  },
  {
   "cell_type": "code",
   "execution_count": null,
   "id": "c48d3bb6",
   "metadata": {},
   "outputs": [],
   "source": [
    "flights.compute().hvplot.heatmap(x='day', y='carrier', C='depdelay', reduce_function=np.mean, colorbar=True).opts(show_values=False)"
   ]
  },
  {
   "cell_type": "code",
   "execution_count": null,
   "id": "e72dd4b7",
   "metadata": {},
   "outputs": [],
   "source": [
    "crime.hvplot.table(columns=['Year', 'Population', 'Violent Crime rate'], width=400)"
   ]
  },
  {
   "cell_type": "code",
   "execution_count": null,
   "id": "784aff8f",
   "metadata": {},
   "outputs": [],
   "source": [
    "crime.hvplot.hist(y='Violent Crime rate')"
   ]
  },
  {
   "cell_type": "code",
   "execution_count": null,
   "id": "e5b071cf",
   "metadata": {},
   "outputs": [],
   "source": [
    "columns = ['Violent Crime rate', 'Property crime rate', 'Burglary rate']\n",
    "crime.hvplot.hist(y=columns, bins=50, alpha=0.5, legend='top', height=400)"
   ]
  },
  {
   "cell_type": "code",
   "execution_count": null,
   "id": "d8ed3011",
   "metadata": {},
   "outputs": [],
   "source": [
    "crime.hvplot.kde(y='Violent Crime rate')"
   ]
  },
  {
   "cell_type": "code",
   "execution_count": null,
   "id": "7047ef5e",
   "metadata": {},
   "outputs": [],
   "source": [
    "columns=['Violent Crime rate', 'Property crime rate', 'Burglary rate']\n",
    "crime.hvplot.kde(y=columns, alpha=0.5, value_label='Rate', legend='top_right')"
   ]
  },
  {
   "cell_type": "code",
   "execution_count": null,
   "id": "46e6b280",
   "metadata": {},
   "outputs": [],
   "source": [
    "flight_subset = flights[flights.carrier.isin(['AA', 'US', 'OH'])]\n",
    "flight_subset.hvplot.kde('depdelay', by='carrier', xlim=(-20, 70), width=300, subplots=True)"
   ]
  },
  {
   "cell_type": "code",
   "execution_count": null,
   "id": "96b48fc1",
   "metadata": {},
   "outputs": [],
   "source": [
    "crime.hvplot.box(y='Violent Crime rate')"
   ]
  },
  {
   "cell_type": "code",
   "execution_count": null,
   "id": "2d9314c7",
   "metadata": {},
   "outputs": [],
   "source": [
    "columns=['Burglary rate', 'Larceny-theft rate', 'Motor vehicle theft rate',\n",
    "         'Property crime rate', 'Violent Crime rate']\n",
    "crime.hvplot.box(y=columns, group_label='Crime', legend=False, value_label='Rate (per 100k)', invert=True)"
   ]
  },
  {
   "cell_type": "code",
   "execution_count": null,
   "id": "3b5a4102",
   "metadata": {},
   "outputs": [],
   "source": [
    "crime.hvplot(x='Year', y='Violent Crime rate') * crime.hvplot.scatter(x='Year', y='Violent Crime rate', c='k')"
   ]
  },
  {
   "cell_type": "code",
   "execution_count": null,
   "id": "f3e132fc",
   "metadata": {},
   "outputs": [],
   "source": [
    "(crime.hvplot.bar(x='Year', y='Violent Crime rate', rot=90, width=550) +\n",
    " crime.hvplot.table(['Year', 'Population', 'Violent Crime rate'], width=420))"
   ]
  },
  {
   "cell_type": "code",
   "execution_count": null,
   "id": "3cb83045",
   "metadata": {},
   "outputs": [],
   "source": [
    "# Large data\n",
    "flights.hvplot.scatter(x='distance', y='airtime', datashade=True)"
   ]
  },
  {
   "cell_type": "code",
   "execution_count": null,
   "id": "275668f3",
   "metadata": {},
   "outputs": [],
   "source": [
    "# Groupby \n",
    "flights.hvplot.violin(y='depdelay', by='carrier', groupby='dayofweek', ylim=(-20, 60), height=500)"
   ]
  },
  {
   "cell_type": "code",
   "execution_count": null,
   "id": "7bb90bc7",
   "metadata": {},
   "outputs": [],
   "source": []
  }
 ],
 "metadata": {
  "kernelspec": {
   "display_name": "Python 3 (ipykernel)",
   "language": "python",
   "name": "python3"
  },
  "language_info": {
   "codemirror_mode": {
    "name": "ipython",
    "version": 3
   },
   "file_extension": ".py",
   "mimetype": "text/x-python",
   "name": "python",
   "nbconvert_exporter": "python",
   "pygments_lexer": "ipython3",
   "version": "3.11.2"
  }
 },
 "nbformat": 4,
 "nbformat_minor": 5
}
